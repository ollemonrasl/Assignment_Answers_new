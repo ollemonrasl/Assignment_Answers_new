{
 "cells": [
  {
   "cell_type": "markdown",
   "metadata": {},
   "source": [
    "## Assignment 5 SPARQL queries\n",
    "\n",
    "Create the SPARQL query that will answer each of these questions."
   ]
  },
  {
   "cell_type": "code",
   "execution_count": 5,
   "metadata": {},
   "outputs": [
    {
     "data": {
      "text/html": [
       "<div class=\"krn-spql\"><div class=\"magic\">Endpoint set to: http://sparql.uniprot.org/sparql</div><div class=\"magic\">Return format: JSON</div></div>"
      ],
      "text/plain": [
       "Endpoint set to: http://sparql.uniprot.org/sparql\n",
       "Return format: JSON\n"
      ]
     },
     "metadata": {},
     "output_type": "display_data"
    }
   ],
   "source": [
    "%endpoint http://sparql.uniprot.org/sparql\n",
    "%format JSON"
   ]
  },
  {
   "cell_type": "markdown",
   "metadata": {},
   "source": [
    "### Q1: 1 POINT  How many protein records are in UniProt? "
   ]
  },
  {
   "cell_type": "code",
   "execution_count": 3,
   "metadata": {},
   "outputs": [
    {
     "data": {
      "text/html": [
       "<div class=\"krn-spql\"><table><tr class=hdr><th>protcount</th></tr><tr class=odd><td class=val>360157660</td></tr></table><div class=\"tinfo\">Total: 1, Shown: 1</div></div>"
      ]
     },
     "metadata": {},
     "output_type": "display_data"
    }
   ],
   "source": [
    "PREFIX up: <http://purl.uniprot.org/core/>\n",
    "\n",
    "SELECT (COUNT (?protein) AS ?protcount)\n",
    "#SELECT (COUNT (DISTINCT ?protein) AS ?protcount) ## TAKES TOO MUCH TIME BUT WOULD BE MORE CORRECT\n",
    "\n",
    "WHERE\n",
    "{\n",
    "    ?protein a up:Protein .\n",
    "}"
   ]
  },
  {
   "cell_type": "markdown",
   "metadata": {},
   "source": [
    "### Q2: 1 POINT How many Arabidopsis thaliana protein records are in UniProt? "
   ]
  },
  {
   "cell_type": "code",
   "execution_count": 4,
   "metadata": {},
   "outputs": [
    {
     "data": {
      "text/html": [
       "<div class=\"krn-spql\"><table><tr class=hdr><th>proteincount</th></tr><tr class=odd><td class=val>136782</td></tr></table><div class=\"tinfo\">Total: 1, Shown: 1</div></div>"
      ]
     },
     "metadata": {},
     "output_type": "display_data"
    }
   ],
   "source": [
    "PREFIX up: <http://purl.uniprot.org/core/> \n",
    "PREFIX taxon: <http://purl.uniprot.org/taxonomy/> \n",
    "\n",
    "SELECT (COUNT(DISTINCT ?protein) AS ?proteincount)\n",
    "WHERE \n",
    "{\n",
    "    ?protein a up:Protein .\n",
    "    ?protein up:organism taxon:3702 .\n",
    "}"
   ]
  },
  {
   "cell_type": "markdown",
   "metadata": {},
   "source": [
    "### Q3: 1 POINT retrieve pictures of Arabidopsis thaliana from UniProt? "
   ]
  },
  {
   "cell_type": "code",
   "execution_count": 5,
   "metadata": {},
   "outputs": [
    {
     "data": {
      "text/html": [
       "<div class=\"krn-spql\"><table><tr class=hdr><th>image</th></tr><tr class=odd><td class=val><a href=\"https://upload.wikimedia.org/wikipedia/commons/3/39/Arabidopsis.jpg\" target=\"_other\">https://upload.wikimedia.org/wikipedia/commons/3/39/Arabidopsis.jpg</a></td></tr><tr class=even><td class=val><a href=\"https://upload.wikimedia.org/wikipedia/commons/thumb/6/60/Arabidopsis_thaliana_inflorescencias.jpg/800px-Arabidopsis_thaliana_inflorescencias.jpg\" target=\"_other\">https://upload.wikimedia.org/wikipedia/commons/thumb/6/60/Arabidopsis_thaliana_inflorescencias.jpg/800px-Arabidopsis_thaliana_inflorescencias.jpg</a></td></tr></table><div class=\"tinfo\">Total: 2, Shown: 2</div></div>"
      ]
     },
     "metadata": {},
     "output_type": "display_data"
    }
   ],
   "source": [
    "PREFIX taxon: <http://purl.uniprot.org/taxonomy/> \n",
    "PREFIX foaf: <http://xmlns.com/foaf/0.1/>\n",
    "\n",
    "SELECT ?image\n",
    "WHERE\n",
    "{\n",
    "    taxon:3702  foaf:depiction  ?image .\n",
    "}"
   ]
  },
  {
   "cell_type": "markdown",
   "metadata": {},
   "source": [
    "### Q4: 1 POINT:  What is the description of the enzyme activity of UniProt Protein Q9SZZ8 "
   ]
  },
  {
   "cell_type": "code",
   "execution_count": 6,
   "metadata": {},
   "outputs": [
    {
     "data": {
      "text/html": [
       "<div class=\"krn-spql\"><table><tr class=hdr><th>description</th></tr><tr class=odd><td class=val>Nonheme diiron monooxygenase involved in the biosynthesis of xanthophylls. Specific for beta-ring hydroxylations of beta-carotene. Has also a low activity toward the beta- and epsilon-rings of alpha-carotene. No activity with acyclic carotenoids such as lycopene and neurosporene. Uses ferredoxin as an electron donor.</td></tr></table><div class=\"tinfo\">Total: 1, Shown: 1</div></div>"
      ]
     },
     "metadata": {},
     "output_type": "display_data"
    }
   ],
   "source": [
    "PREFIX rdfs: <http://www.w3.org/2000/01/rdf-schema#>\n",
    "PREFIX uniprotkb: <http://purl.uniprot.org/uniprot/>  \n",
    "PREFIX up: <http://purl.uniprot.org/core/> \n",
    "\n",
    "SELECT DISTINCT ?description\n",
    "WHERE\n",
    "{\n",
    "  uniprotkb:Q9SZZ8 a up:Protein ;\n",
    "                   up:annotation ?annotation .\n",
    "  \n",
    "  ?annotation a up:Function_Annotation ;\n",
    "               rdfs:comment ?description .\n",
    "}"
   ]
  },
  {
   "cell_type": "markdown",
   "metadata": {},
   "source": [
    "### Q5: 1 POINT:  Retrieve the proteins ids, and date of submission, for proteins that have been added to UniProt this year   (HINT Google for “SPARQL FILTER by date”)"
   ]
  },
  {
   "cell_type": "code",
   "execution_count": null,
   "metadata": {},
   "outputs": [],
   "source": [
    "PREFIX up:<http://purl.uniprot.org/core/>\n",
    "PREFIX xsd: <http://www.w3.org/2001/XMLSchema#>\n",
    "\n",
    "SELECT ?id ?date\n",
    "WHERE\n",
    "{\n",
    "  ?protein a up:Protein ;\n",
    "           up:mnemonic ?id ;\n",
    "           up:created ?date .\n",
    "  FILTER(?date > \"2021-01-01\"^^xsd:date) .\n",
    "}"
   ]
  },
  {
   "cell_type": "markdown",
   "metadata": {},
   "source": [
    "### Q6: 1 POINT How  many species are in the UniProt taxonomy?"
   ]
  },
  {
   "cell_type": "code",
   "execution_count": 6,
   "metadata": {},
   "outputs": [
    {
     "data": {
      "text/html": [
       "<div class=\"krn-spql\"><table><tr class=hdr><th>specount</th></tr><tr class=odd><td class=val>2029846</td></tr></table><div class=\"tinfo\">Total: 1, Shown: 1</div></div>"
      ]
     },
     "metadata": {},
     "output_type": "display_data"
    }
   ],
   "source": [
    "PREFIX up:<http://purl.uniprot.org/core/> \n",
    "\n",
    "SELECT (COUNT (DISTINCT ?species) AS ?specount)\n",
    "WHERE\n",
    "{\n",
    "    ?species a up:Taxon ;\n",
    "             up:rank up:Species .\n",
    "}"
   ]
  },
  {
   "cell_type": "markdown",
   "metadata": {},
   "source": [
    "### Q7: 2 POINT  How many species have at least one protein record? (this might take a long time to execute, so do this one last!)"
   ]
  },
  {
   "cell_type": "code",
   "execution_count": 6,
   "metadata": {},
   "outputs": [
    {
     "data": {
      "text/html": [
       "<div class=\"krn-spql\"><table><tr class=hdr><th>speciesnum</th></tr><tr class=odd><td class=val>1057158</td></tr></table><div class=\"tinfo\">Total: 1, Shown: 1</div></div>"
      ]
     },
     "metadata": {},
     "output_type": "display_data"
    }
   ],
   "source": [
    "PREFIX up:<http://purl.uniprot.org/core/> \n",
    "\n",
    "SELECT (COUNT(DISTINCT ?species) AS ?speciesnum)\n",
    "WHERE \n",
    "{\n",
    "    ?protein a up:Protein .\n",
    "    ?protein up:organism ?species .\n",
    "    ?species a up:Taxon .\n",
    "    ?species up:rank up:Species .\n",
    "}"
   ]
  },
  {
   "cell_type": "markdown",
   "metadata": {},
   "source": [
    "### Q8: 3 points:  find the AGI codes and gene names for all Arabidopsis thaliana  proteins that have a protein function annotation description that mentions “pattern formation”"
   ]
  },
  {
   "cell_type": "code",
   "execution_count": 5,
   "metadata": {},
   "outputs": [
    {
     "data": {
      "text/html": [
       "<div class=\"krn-spql\"><table><tr class=hdr><th>gene_name</th>\n",
       "<th>agi_code</th></tr><tr class=odd><td class=val>AtSCR</td>\n",
       "<td class=val>At3g54220</td></tr><tr class=even><td class=val>AtCUL3b</td>\n",
       "<td class=val>At1g69670</td></tr><tr class=odd><td class=val>AtSWEET8</td>\n",
       "<td class=val>At5g40260</td></tr><tr class=even><td class=val>AtCUL3a</td>\n",
       "<td class=val>At1g26830</td></tr><tr class=odd><td class=val>AtSHR</td>\n",
       "<td class=val>At4g37650</td></tr><tr class=even><td class=val>AtRopGEF7</td>\n",
       "<td class=val>At5g02010</td></tr></table><div class=\"tinfo\">Total: 6, Shown: 6</div></div>"
      ]
     },
     "metadata": {},
     "output_type": "display_data"
    }
   ],
   "source": [
    "PREFIX rdfs: <http://www.w3.org/2000/01/rdf-schema#>\n",
    "PREFIX taxon: <http://purl.uniprot.org/taxonomy/>\n",
    "PREFIX up: <http://purl.uniprot.org/core/>\n",
    "PREFIX skos: <http://www.w3.org/2004/02/skos/core#>\n",
    "\n",
    "SELECT ?gene_name ?agi_code\n",
    "WHERE\n",
    "{\n",
    "    ?protein a up:Protein ;\n",
    "             up:organism taxon:3702 ;\n",
    "             up:recommendedName ?n ;\n",
    "             up:encodedBy ?gene ;\n",
    "             up:annotation ?annotation .\n",
    "    ?n up:shortName ?gene_name . \n",
    "    ?gene up:locusName ?agi_code .\n",
    "    ?annotation a up:Function_Annotation ;\n",
    "                rdfs:comment ?comment .\n",
    "    FILTER regex( ?comment, \"pattern formation\",\"i\")\n",
    "}"
   ]
  },
  {
   "cell_type": "markdown",
   "metadata": {},
   "source": [
    "### Q9: 4 POINTS:  what is the MetaNetX Reaction identifier (starts with “mnxr”) for the UniProt Protein uniprotkb:Q18A79"
   ]
  },
  {
   "cell_type": "code",
   "execution_count": 1,
   "metadata": {},
   "outputs": [
    {
     "data": {
      "text/html": [
       "<div class=\"krn-spql\"><div class=\"magic\">Endpoint set to: https://rdf.metanetx.org/sparql</div></div>"
      ],
      "text/plain": [
       "Endpoint set to: https://rdf.metanetx.org/sparql\n"
      ]
     },
     "metadata": {},
     "output_type": "display_data"
    }
   ],
   "source": [
    "%endpoint https://rdf.metanetx.org/sparql"
   ]
  },
  {
   "cell_type": "code",
   "execution_count": 3,
   "metadata": {},
   "outputs": [
    {
     "data": {
      "text/html": [
       "<div class=\"krn-spql\"><table><tr class=hdr><th>reac_identifier</th></tr><tr class=odd><td class=val>mnxr165934</td></tr><tr class=even><td class=val>mnxr145046c3</td></tr></table><div class=\"tinfo\">Total: 2, Shown: 2</div></div>"
      ]
     },
     "metadata": {},
     "output_type": "display_data"
    }
   ],
   "source": [
    "PREFIX mnx: <https://rdf.metanetx.org/schema/>\n",
    "PREFIX rdfs: <http://www.w3.org/2000/01/rdf-schema#>\n",
    "PREFIX uniprotkb: <http://purl.uniprot.org/uniprot/>\n",
    "\n",
    "SELECT DISTINCT ?reac_identifier\n",
    "WHERE{\n",
    "    ?pept mnx:peptXref uniprotkb:Q18A79 .\n",
    "    ?cata mnx:pept ?pept .\n",
    "    ?gpr mnx:cata ?cata ;\n",
    "         mnx:reac ?reac .\n",
    "    ?reac rdfs:label ?reac_identifier .\n",
    "}"
   ]
  },
  {
   "cell_type": "markdown",
   "metadata": {},
   "source": [
    "### Q10: 5 POINTS:  What is the official Gene ID (UniProt calls this a “mnemonic”) and the MetaNetX Reaction identifier (mnxr…..) for the protein that has “Starch synthase” catalytic activity in Clostridium difficile (taxon 272563)."
   ]
  },
  {
   "cell_type": "code",
   "execution_count": 3,
   "metadata": {},
   "outputs": [
    {
     "data": {
      "text/html": [
       "<div class=\"krn-spql\"><table><tr class=hdr><th>mnemonic</th>\n",
       "<th>reac_label</th></tr><tr class=odd><td class=val>GLGA_CLOD6</td>\n",
       "<td class=val>mnxr165934</td></tr><tr class=even><td class=val>GLGA_CLOD6</td>\n",
       "<td class=val>mnxr145046c3</td></tr></table><div class=\"tinfo\">Total: 2, Shown: 2</div></div>"
      ]
     },
     "metadata": {},
     "output_type": "display_data"
    }
   ],
   "source": [
    "PREFIX mnx: <https://rdf.metanetx.org/schema/>\n",
    "PREFIX rdfs: <http://www.w3.org/2000/01/rdf-schema#>\n",
    "PREFIX up: <http://purl.uniprot.org/core/>\n",
    "PREFIX taxon: <http://purl.uniprot.org/taxonomy/>\n",
    "\n",
    "SELECT DISTINCT ?mnemonic ?reac_label\n",
    "WHERE\n",
    "{\n",
    "  service <http://sparql.uniprot.org/sparql> {\n",
    "    ?protein a up:Protein ;\n",
    "             up:organism taxon:272563 ;\n",
    "             up:mnemonic ?mnemonic ;\n",
    "             up:classifiedWith ?goTerm .\n",
    "    ?goTerm rdfs:label ?activity .\n",
    "    filter contains(?activity, \"starch synthase\")\n",
    "    bind (substr(str(?protein),33) as ?ac)\n",
    "    bind (IRI(CONCAT(\"http://purl.uniprot.org/uniprot/\",?ac)) as ?proteinRef)\n",
    "  }\n",
    "  service <https://rdf.metanetx.org/sparql> {\n",
    "    ?pept mnx:peptXref ?proteinRef .\n",
    "    ?cata mnx:pept ?pept .\n",
    "    ?gpr mnx:cata ?cata ;\n",
    "         mnx:reac ?reac .\n",
    "    ?reac rdfs:label ?reac_label .\n",
    "  }\n",
    "}"
   ]
  }
 ],
 "metadata": {
  "kernelspec": {
   "display_name": "SPARQL",
   "language": "sparql",
   "name": "sparql"
  },
  "language_info": {
   "codemirror_mode": {
    "name": "sparql"
   },
   "mimetype": "application/sparql-query",
   "name": "sparql",
   "pygments_lexer": "sparql-nb"
  }
 },
 "nbformat": 4,
 "nbformat_minor": 2
}
